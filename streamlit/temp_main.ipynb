{
 "cells": [
  {
   "cell_type": "code",
   "execution_count": 14,
   "metadata": {},
   "outputs": [
    {
     "name": "stdout",
     "output_type": "stream",
     "text": [
      "Collecting streamlit_folium\n",
      "  Downloading streamlit_folium-0.22.0-py3-none-any.whl.metadata (416 bytes)\n",
      "Requirement already satisfied: streamlit>=1.13.0 in c:\\users\\playdata\\appdata\\local\\anaconda3\\envs\\streamlit\\lib\\site-packages (from streamlit_folium) (1.37.1)\n",
      "Requirement already satisfied: folium!=0.15.0,>=0.13 in c:\\users\\playdata\\appdata\\local\\anaconda3\\envs\\streamlit\\lib\\site-packages (from streamlit_folium) (0.17.0)\n",
      "Requirement already satisfied: jinja2 in c:\\users\\playdata\\appdata\\local\\anaconda3\\envs\\streamlit\\lib\\site-packages (from streamlit_folium) (3.1.4)\n",
      "Requirement already satisfied: branca in c:\\users\\playdata\\appdata\\local\\anaconda3\\envs\\streamlit\\lib\\site-packages (from streamlit_folium) (0.7.2)\n",
      "Requirement already satisfied: numpy in c:\\users\\playdata\\appdata\\local\\anaconda3\\envs\\streamlit\\lib\\site-packages (from folium!=0.15.0,>=0.13->streamlit_folium) (2.0.1)\n",
      "Requirement already satisfied: requests in c:\\users\\playdata\\appdata\\local\\anaconda3\\envs\\streamlit\\lib\\site-packages (from folium!=0.15.0,>=0.13->streamlit_folium) (2.32.3)\n",
      "Requirement already satisfied: xyzservices in c:\\users\\playdata\\appdata\\local\\anaconda3\\envs\\streamlit\\lib\\site-packages (from folium!=0.15.0,>=0.13->streamlit_folium) (2024.6.0)\n",
      "Requirement already satisfied: MarkupSafe>=2.0 in c:\\users\\playdata\\appdata\\local\\anaconda3\\envs\\streamlit\\lib\\site-packages (from jinja2->streamlit_folium) (2.1.5)\n",
      "Requirement already satisfied: altair<6,>=4.0 in c:\\users\\playdata\\appdata\\local\\anaconda3\\envs\\streamlit\\lib\\site-packages (from streamlit>=1.13.0->streamlit_folium) (5.4.0)\n",
      "Requirement already satisfied: blinker<2,>=1.0.0 in c:\\users\\playdata\\appdata\\local\\anaconda3\\envs\\streamlit\\lib\\site-packages (from streamlit>=1.13.0->streamlit_folium) (1.8.2)\n",
      "Requirement already satisfied: cachetools<6,>=4.0 in c:\\users\\playdata\\appdata\\local\\anaconda3\\envs\\streamlit\\lib\\site-packages (from streamlit>=1.13.0->streamlit_folium) (5.4.0)\n",
      "Requirement already satisfied: click<9,>=7.0 in c:\\users\\playdata\\appdata\\local\\anaconda3\\envs\\streamlit\\lib\\site-packages (from streamlit>=1.13.0->streamlit_folium) (8.1.7)\n",
      "Requirement already satisfied: packaging<25,>=20 in c:\\users\\playdata\\appdata\\local\\anaconda3\\envs\\streamlit\\lib\\site-packages (from streamlit>=1.13.0->streamlit_folium) (24.1)\n",
      "Requirement already satisfied: pandas<3,>=1.3.0 in c:\\users\\playdata\\appdata\\local\\anaconda3\\envs\\streamlit\\lib\\site-packages (from streamlit>=1.13.0->streamlit_folium) (2.2.2)\n",
      "Requirement already satisfied: pillow<11,>=7.1.0 in c:\\users\\playdata\\appdata\\local\\anaconda3\\envs\\streamlit\\lib\\site-packages (from streamlit>=1.13.0->streamlit_folium) (10.4.0)\n",
      "Requirement already satisfied: protobuf<6,>=3.20 in c:\\users\\playdata\\appdata\\local\\anaconda3\\envs\\streamlit\\lib\\site-packages (from streamlit>=1.13.0->streamlit_folium) (5.27.3)\n",
      "Requirement already satisfied: pyarrow>=7.0 in c:\\users\\playdata\\appdata\\local\\anaconda3\\envs\\streamlit\\lib\\site-packages (from streamlit>=1.13.0->streamlit_folium) (17.0.0)\n",
      "Requirement already satisfied: rich<14,>=10.14.0 in c:\\users\\playdata\\appdata\\local\\anaconda3\\envs\\streamlit\\lib\\site-packages (from streamlit>=1.13.0->streamlit_folium) (13.7.1)\n",
      "Requirement already satisfied: tenacity<9,>=8.1.0 in c:\\users\\playdata\\appdata\\local\\anaconda3\\envs\\streamlit\\lib\\site-packages (from streamlit>=1.13.0->streamlit_folium) (8.5.0)\n",
      "Requirement already satisfied: toml<2,>=0.10.1 in c:\\users\\playdata\\appdata\\local\\anaconda3\\envs\\streamlit\\lib\\site-packages (from streamlit>=1.13.0->streamlit_folium) (0.10.2)\n",
      "Requirement already satisfied: typing-extensions<5,>=4.3.0 in c:\\users\\playdata\\appdata\\local\\anaconda3\\envs\\streamlit\\lib\\site-packages (from streamlit>=1.13.0->streamlit_folium) (4.12.2)\n",
      "Requirement already satisfied: gitpython!=3.1.19,<4,>=3.0.7 in c:\\users\\playdata\\appdata\\local\\anaconda3\\envs\\streamlit\\lib\\site-packages (from streamlit>=1.13.0->streamlit_folium) (3.1.43)\n",
      "Requirement already satisfied: pydeck<1,>=0.8.0b4 in c:\\users\\playdata\\appdata\\local\\anaconda3\\envs\\streamlit\\lib\\site-packages (from streamlit>=1.13.0->streamlit_folium) (0.9.1)\n",
      "Requirement already satisfied: tornado<7,>=6.0.3 in c:\\users\\playdata\\appdata\\local\\anaconda3\\envs\\streamlit\\lib\\site-packages (from streamlit>=1.13.0->streamlit_folium) (6.4.1)\n",
      "Requirement already satisfied: watchdog<5,>=2.1.5 in c:\\users\\playdata\\appdata\\local\\anaconda3\\envs\\streamlit\\lib\\site-packages (from streamlit>=1.13.0->streamlit_folium) (4.0.2)\n",
      "Requirement already satisfied: jsonschema>=3.0 in c:\\users\\playdata\\appdata\\local\\anaconda3\\envs\\streamlit\\lib\\site-packages (from altair<6,>=4.0->streamlit>=1.13.0->streamlit_folium) (4.23.0)\n",
      "Requirement already satisfied: narwhals>=1.1.0 in c:\\users\\playdata\\appdata\\local\\anaconda3\\envs\\streamlit\\lib\\site-packages (from altair<6,>=4.0->streamlit>=1.13.0->streamlit_folium) (1.3.0)\n",
      "Requirement already satisfied: colorama in c:\\users\\playdata\\appdata\\local\\anaconda3\\envs\\streamlit\\lib\\site-packages (from click<9,>=7.0->streamlit>=1.13.0->streamlit_folium) (0.4.6)\n",
      "Requirement already satisfied: gitdb<5,>=4.0.1 in c:\\users\\playdata\\appdata\\local\\anaconda3\\envs\\streamlit\\lib\\site-packages (from gitpython!=3.1.19,<4,>=3.0.7->streamlit>=1.13.0->streamlit_folium) (4.0.11)\n",
      "Requirement already satisfied: python-dateutil>=2.8.2 in c:\\users\\playdata\\appdata\\local\\anaconda3\\envs\\streamlit\\lib\\site-packages (from pandas<3,>=1.3.0->streamlit>=1.13.0->streamlit_folium) (2.9.0)\n",
      "Requirement already satisfied: pytz>=2020.1 in c:\\users\\playdata\\appdata\\local\\anaconda3\\envs\\streamlit\\lib\\site-packages (from pandas<3,>=1.3.0->streamlit>=1.13.0->streamlit_folium) (2024.1)\n",
      "Requirement already satisfied: tzdata>=2022.7 in c:\\users\\playdata\\appdata\\local\\anaconda3\\envs\\streamlit\\lib\\site-packages (from pandas<3,>=1.3.0->streamlit>=1.13.0->streamlit_folium) (2024.1)\n",
      "Requirement already satisfied: charset-normalizer<4,>=2 in c:\\users\\playdata\\appdata\\local\\anaconda3\\envs\\streamlit\\lib\\site-packages (from requests->folium!=0.15.0,>=0.13->streamlit_folium) (3.3.2)\n",
      "Requirement already satisfied: idna<4,>=2.5 in c:\\users\\playdata\\appdata\\local\\anaconda3\\envs\\streamlit\\lib\\site-packages (from requests->folium!=0.15.0,>=0.13->streamlit_folium) (3.7)\n",
      "Requirement already satisfied: urllib3<3,>=1.21.1 in c:\\users\\playdata\\appdata\\local\\anaconda3\\envs\\streamlit\\lib\\site-packages (from requests->folium!=0.15.0,>=0.13->streamlit_folium) (2.2.2)\n",
      "Requirement already satisfied: certifi>=2017.4.17 in c:\\users\\playdata\\appdata\\local\\anaconda3\\envs\\streamlit\\lib\\site-packages (from requests->folium!=0.15.0,>=0.13->streamlit_folium) (2024.7.4)\n",
      "Requirement already satisfied: markdown-it-py>=2.2.0 in c:\\users\\playdata\\appdata\\local\\anaconda3\\envs\\streamlit\\lib\\site-packages (from rich<14,>=10.14.0->streamlit>=1.13.0->streamlit_folium) (3.0.0)\n",
      "Requirement already satisfied: pygments<3.0.0,>=2.13.0 in c:\\users\\playdata\\appdata\\local\\anaconda3\\envs\\streamlit\\lib\\site-packages (from rich<14,>=10.14.0->streamlit>=1.13.0->streamlit_folium) (2.18.0)\n",
      "Requirement already satisfied: smmap<6,>=3.0.1 in c:\\users\\playdata\\appdata\\local\\anaconda3\\envs\\streamlit\\lib\\site-packages (from gitdb<5,>=4.0.1->gitpython!=3.1.19,<4,>=3.0.7->streamlit>=1.13.0->streamlit_folium) (5.0.1)\n",
      "Requirement already satisfied: attrs>=22.2.0 in c:\\users\\playdata\\appdata\\local\\anaconda3\\envs\\streamlit\\lib\\site-packages (from jsonschema>=3.0->altair<6,>=4.0->streamlit>=1.13.0->streamlit_folium) (24.2.0)\n",
      "Requirement already satisfied: jsonschema-specifications>=2023.03.6 in c:\\users\\playdata\\appdata\\local\\anaconda3\\envs\\streamlit\\lib\\site-packages (from jsonschema>=3.0->altair<6,>=4.0->streamlit>=1.13.0->streamlit_folium) (2023.12.1)\n",
      "Requirement already satisfied: referencing>=0.28.4 in c:\\users\\playdata\\appdata\\local\\anaconda3\\envs\\streamlit\\lib\\site-packages (from jsonschema>=3.0->altair<6,>=4.0->streamlit>=1.13.0->streamlit_folium) (0.35.1)\n",
      "Requirement already satisfied: rpds-py>=0.7.1 in c:\\users\\playdata\\appdata\\local\\anaconda3\\envs\\streamlit\\lib\\site-packages (from jsonschema>=3.0->altair<6,>=4.0->streamlit>=1.13.0->streamlit_folium) (0.20.0)\n",
      "Requirement already satisfied: mdurl~=0.1 in c:\\users\\playdata\\appdata\\local\\anaconda3\\envs\\streamlit\\lib\\site-packages (from markdown-it-py>=2.2.0->rich<14,>=10.14.0->streamlit>=1.13.0->streamlit_folium) (0.1.2)\n",
      "Requirement already satisfied: six>=1.5 in c:\\users\\playdata\\appdata\\local\\anaconda3\\envs\\streamlit\\lib\\site-packages (from python-dateutil>=2.8.2->pandas<3,>=1.3.0->streamlit>=1.13.0->streamlit_folium) (1.16.0)\n",
      "Downloading streamlit_folium-0.22.0-py3-none-any.whl (327 kB)\n",
      "   ---------------------------------------- 0.0/327.0 kB ? eta -:--:--\n",
      "   ------- -------------------------------- 61.4/327.0 kB 1.1 MB/s eta 0:00:01\n",
      "   ---------------------------------------- 327.0/327.0 kB 4.1 MB/s eta 0:00:00\n",
      "Installing collected packages: streamlit_folium\n",
      "Successfully installed streamlit_folium-0.22.0\n"
     ]
    }
   ],
   "source": [
    "!pip install streamlit_folium"
   ]
  },
  {
   "cell_type": "code",
   "execution_count": 3,
   "metadata": {},
   "outputs": [
    {
     "name": "stdout",
     "output_type": "stream",
     "text": [
      "Requirement already satisfied: geopandas in c:\\users\\playdata\\appdata\\local\\anaconda3\\envs\\streamlit\\lib\\site-packages (1.0.1)\n",
      "Requirement already satisfied: matplotlib in c:\\users\\playdata\\appdata\\local\\anaconda3\\envs\\streamlit\\lib\\site-packages (3.9.2)\n",
      "Requirement already satisfied: folium in c:\\users\\playdata\\appdata\\local\\anaconda3\\envs\\streamlit\\lib\\site-packages (0.17.0)\n",
      "Requirement already satisfied: numpy>=1.22 in c:\\users\\playdata\\appdata\\local\\anaconda3\\envs\\streamlit\\lib\\site-packages (from geopandas) (2.0.1)\n",
      "Requirement already satisfied: pyogrio>=0.7.2 in c:\\users\\playdata\\appdata\\local\\anaconda3\\envs\\streamlit\\lib\\site-packages (from geopandas) (0.9.0)\n",
      "Requirement already satisfied: packaging in c:\\users\\playdata\\appdata\\local\\anaconda3\\envs\\streamlit\\lib\\site-packages (from geopandas) (24.1)\n",
      "Requirement already satisfied: pandas>=1.4.0 in c:\\users\\playdata\\appdata\\local\\anaconda3\\envs\\streamlit\\lib\\site-packages (from geopandas) (2.2.2)\n",
      "Requirement already satisfied: pyproj>=3.3.0 in c:\\users\\playdata\\appdata\\local\\anaconda3\\envs\\streamlit\\lib\\site-packages (from geopandas) (3.6.1)\n",
      "Requirement already satisfied: shapely>=2.0.0 in c:\\users\\playdata\\appdata\\local\\anaconda3\\envs\\streamlit\\lib\\site-packages (from geopandas) (2.0.6)\n",
      "Requirement already satisfied: contourpy>=1.0.1 in c:\\users\\playdata\\appdata\\local\\anaconda3\\envs\\streamlit\\lib\\site-packages (from matplotlib) (1.2.1)\n",
      "Requirement already satisfied: cycler>=0.10 in c:\\users\\playdata\\appdata\\local\\anaconda3\\envs\\streamlit\\lib\\site-packages (from matplotlib) (0.12.1)\n",
      "Requirement already satisfied: fonttools>=4.22.0 in c:\\users\\playdata\\appdata\\local\\anaconda3\\envs\\streamlit\\lib\\site-packages (from matplotlib) (4.53.1)\n",
      "Requirement already satisfied: kiwisolver>=1.3.1 in c:\\users\\playdata\\appdata\\local\\anaconda3\\envs\\streamlit\\lib\\site-packages (from matplotlib) (1.4.5)\n",
      "Requirement already satisfied: pillow>=8 in c:\\users\\playdata\\appdata\\local\\anaconda3\\envs\\streamlit\\lib\\site-packages (from matplotlib) (10.4.0)\n",
      "Requirement already satisfied: pyparsing>=2.3.1 in c:\\users\\playdata\\appdata\\local\\anaconda3\\envs\\streamlit\\lib\\site-packages (from matplotlib) (3.1.2)\n",
      "Requirement already satisfied: python-dateutil>=2.7 in c:\\users\\playdata\\appdata\\local\\anaconda3\\envs\\streamlit\\lib\\site-packages (from matplotlib) (2.9.0)\n",
      "Requirement already satisfied: branca>=0.6.0 in c:\\users\\playdata\\appdata\\local\\anaconda3\\envs\\streamlit\\lib\\site-packages (from folium) (0.7.2)\n",
      "Requirement already satisfied: jinja2>=2.9 in c:\\users\\playdata\\appdata\\local\\anaconda3\\envs\\streamlit\\lib\\site-packages (from folium) (3.1.4)\n",
      "Requirement already satisfied: requests in c:\\users\\playdata\\appdata\\local\\anaconda3\\envs\\streamlit\\lib\\site-packages (from folium) (2.32.3)\n",
      "Requirement already satisfied: xyzservices in c:\\users\\playdata\\appdata\\local\\anaconda3\\envs\\streamlit\\lib\\site-packages (from folium) (2024.6.0)\n",
      "Requirement already satisfied: MarkupSafe>=2.0 in c:\\users\\playdata\\appdata\\local\\anaconda3\\envs\\streamlit\\lib\\site-packages (from jinja2>=2.9->folium) (2.1.5)\n",
      "Requirement already satisfied: pytz>=2020.1 in c:\\users\\playdata\\appdata\\local\\anaconda3\\envs\\streamlit\\lib\\site-packages (from pandas>=1.4.0->geopandas) (2024.1)\n",
      "Requirement already satisfied: tzdata>=2022.7 in c:\\users\\playdata\\appdata\\local\\anaconda3\\envs\\streamlit\\lib\\site-packages (from pandas>=1.4.0->geopandas) (2024.1)\n",
      "Requirement already satisfied: certifi in c:\\users\\playdata\\appdata\\local\\anaconda3\\envs\\streamlit\\lib\\site-packages (from pyogrio>=0.7.2->geopandas) (2024.7.4)\n",
      "Requirement already satisfied: six>=1.5 in c:\\users\\playdata\\appdata\\local\\anaconda3\\envs\\streamlit\\lib\\site-packages (from python-dateutil>=2.7->matplotlib) (1.16.0)\n",
      "Requirement already satisfied: charset-normalizer<4,>=2 in c:\\users\\playdata\\appdata\\local\\anaconda3\\envs\\streamlit\\lib\\site-packages (from requests->folium) (3.3.2)\n",
      "Requirement already satisfied: idna<4,>=2.5 in c:\\users\\playdata\\appdata\\local\\anaconda3\\envs\\streamlit\\lib\\site-packages (from requests->folium) (3.7)\n",
      "Requirement already satisfied: urllib3<3,>=1.21.1 in c:\\users\\playdata\\appdata\\local\\anaconda3\\envs\\streamlit\\lib\\site-packages (from requests->folium) (2.2.2)\n"
     ]
    }
   ],
   "source": [
    "!pip install geopandas matplotlib folium"
   ]
  },
  {
   "cell_type": "code",
   "execution_count": 4,
   "metadata": {},
   "outputs": [],
   "source": [
    "import geopandas as gpd\n",
    "import matplotlib.pyplot as plt\n",
    "import folium\n",
    "from branca.colormap import linear"
   ]
  },
  {
   "cell_type": "code",
   "execution_count": 7,
   "metadata": {},
   "outputs": [],
   "source": [
    "gdf = gpd.read_file(r\"C:\\Users\\Playdata\\Downloads\\kr.json\")"
   ]
  },
  {
   "cell_type": "code",
   "execution_count": 8,
   "metadata": {},
   "outputs": [],
   "source": [
    "data = {\n",
    "    'Seoul': 75, 'Busan': 55, 'Daegu': 35, 'Incheon': 60, 'Gwangju': 45,\n",
    "    'Daejeon': 50, 'Ulsan': 65, 'Gyeonggi-do': 70, 'Gangwon-do': 40,\n",
    "    'Chungcheongbuk-do': 30, 'Chungcheongnam-do': 50, 'Jeollabuk-do': 20,\n",
    "    'Jeollanam-do': 25, 'Gyeongsangbuk-do': 45, 'Gyeongsangnam-do': 50,\n",
    "    'Jeju-do': 80, 'Sejong': 60\n",
    "}\n",
    "\n",
    "gdf['rate'] = gdf['name'].map(data)"
   ]
  },
  {
   "cell_type": "code",
   "execution_count": 9,
   "metadata": {},
   "outputs": [],
   "source": [
    "colormap = linear.YlOrRd_09.scale(gdf['rate'].min(), gdf['rate'].max())"
   ]
  },
  {
   "cell_type": "code",
   "execution_count": 10,
   "metadata": {},
   "outputs": [],
   "source": [
    "m = folium.Map(location=[36.5, 127.5], zoom_start=7)"
   ]
  },
  {
   "cell_type": "code",
   "execution_count": 13,
   "metadata": {},
   "outputs": [
    {
     "data": {
      "text/html": [
       "<div style=\"width:100%;\"><div style=\"position:relative;width:100%;height:0;padding-bottom:60%;\"><span style=\"color:#565656\">Make this Notebook Trusted to load map: File -> Trust Notebook</span><iframe srcdoc=\"&lt;!DOCTYPE html&gt;\n",
       "&lt;html&gt;\n",
       "&lt;head&gt;\n",
       "    \n",
       "    &lt;meta http-equiv=&quot;content-type&quot; content=&quot;text/html; charset=UTF-8&quot; /&gt;\n",
       "    \n",
       "        &lt;script&gt;\n",
       "            L_NO_TOUCH = false;\n",
       "            L_DISABLE_3D = false;\n",
       "        &lt;/script&gt;\n",
       "    \n",
       "    &lt;style&gt;html, body {width: 100%;height: 100%;margin: 0;padding: 0;}&lt;/style&gt;\n",
       "    &lt;style&gt;#map {position:absolute;top:0;bottom:0;right:0;left:0;}&lt;/style&gt;\n",
       "    &lt;script src=&quot;https://cdn.jsdelivr.net/npm/leaflet@1.9.3/dist/leaflet.js&quot;&gt;&lt;/script&gt;\n",
       "    &lt;script src=&quot;https://code.jquery.com/jquery-3.7.1.min.js&quot;&gt;&lt;/script&gt;\n",
       "    &lt;script src=&quot;https://cdn.jsdelivr.net/npm/bootstrap@5.2.2/dist/js/bootstrap.bundle.min.js&quot;&gt;&lt;/script&gt;\n",
       "    &lt;script src=&quot;https://cdnjs.cloudflare.com/ajax/libs/Leaflet.awesome-markers/2.0.2/leaflet.awesome-markers.js&quot;&gt;&lt;/script&gt;\n",
       "    &lt;link rel=&quot;stylesheet&quot; href=&quot;https://cdn.jsdelivr.net/npm/leaflet@1.9.3/dist/leaflet.css&quot;/&gt;\n",
       "    &lt;link rel=&quot;stylesheet&quot; href=&quot;https://cdn.jsdelivr.net/npm/bootstrap@5.2.2/dist/css/bootstrap.min.css&quot;/&gt;\n",
       "    &lt;link rel=&quot;stylesheet&quot; href=&quot;https://netdna.bootstrapcdn.com/bootstrap/3.0.0/css/bootstrap-glyphicons.css&quot;/&gt;\n",
       "    &lt;link rel=&quot;stylesheet&quot; href=&quot;https://cdn.jsdelivr.net/npm/@fortawesome/fontawesome-free@6.2.0/css/all.min.css&quot;/&gt;\n",
       "    &lt;link rel=&quot;stylesheet&quot; href=&quot;https://cdnjs.cloudflare.com/ajax/libs/Leaflet.awesome-markers/2.0.2/leaflet.awesome-markers.css&quot;/&gt;\n",
       "    &lt;link rel=&quot;stylesheet&quot; href=&quot;https://cdn.jsdelivr.net/gh/python-visualization/folium/folium/templates/leaflet.awesome.rotate.min.css&quot;/&gt;\n",
       "    \n",
       "            &lt;meta name=&quot;viewport&quot; content=&quot;width=device-width,\n",
       "                initial-scale=1.0, maximum-scale=1.0, user-scalable=no&quot; /&gt;\n",
       "            &lt;style&gt;\n",
       "                #map_ee91b33d4cd473134a268e793862eb6d {\n",
       "                    position: relative;\n",
       "                    width: 100.0%;\n",
       "                    height: 100.0%;\n",
       "                    left: 0.0%;\n",
       "                    top: 0.0%;\n",
       "                }\n",
       "                .leaflet-container { font-size: 1rem; }\n",
       "            &lt;/style&gt;\n",
       "        \n",
       "&lt;/head&gt;\n",
       "&lt;body&gt;\n",
       "    \n",
       "    \n",
       "            &lt;div class=&quot;folium-map&quot; id=&quot;map_ee91b33d4cd473134a268e793862eb6d&quot; &gt;&lt;/div&gt;\n",
       "        \n",
       "&lt;/body&gt;\n",
       "&lt;script&gt;\n",
       "    \n",
       "    \n",
       "            var map_ee91b33d4cd473134a268e793862eb6d = L.map(\n",
       "                &quot;map_ee91b33d4cd473134a268e793862eb6d&quot;,\n",
       "                {\n",
       "                    center: [36.5, 127.5],\n",
       "                    crs: L.CRS.EPSG3857,\n",
       "                    zoom: 7,\n",
       "                    zoomControl: true,\n",
       "                    preferCanvas: false,\n",
       "                }\n",
       "            );\n",
       "\n",
       "            \n",
       "\n",
       "        \n",
       "    \n",
       "            var tile_layer_3696e73e9072bb8c9b279c9bcabc1edd = L.tileLayer(\n",
       "                &quot;https://tile.openstreetmap.org/{z}/{x}/{y}.png&quot;,\n",
       "                {&quot;attribution&quot;: &quot;\\u0026copy; \\u003ca href=\\&quot;https://www.openstreetmap.org/copyright\\&quot;\\u003eOpenStreetMap\\u003c/a\\u003e contributors&quot;, &quot;detectRetina&quot;: false, &quot;maxNativeZoom&quot;: 19, &quot;maxZoom&quot;: 19, &quot;minZoom&quot;: 0, &quot;noWrap&quot;: false, &quot;opacity&quot;: 1, &quot;subdomains&quot;: &quot;abc&quot;, &quot;tms&quot;: false}\n",
       "            );\n",
       "        \n",
       "    \n",
       "            tile_layer_3696e73e9072bb8c9b279c9bcabc1edd.addTo(map_ee91b33d4cd473134a268e793862eb6d);\n",
       "        \n",
       "&lt;/script&gt;\n",
       "&lt;/html&gt;\" style=\"position:absolute;width:100%;height:100%;left:0;top:0;border:none !important;\" allowfullscreen webkitallowfullscreen mozallowfullscreen></iframe></div></div>"
      ],
      "text/plain": [
       "<folium.folium.Map at 0x1fac10cbe80>"
      ]
     },
     "execution_count": 13,
     "metadata": {},
     "output_type": "execute_result"
    }
   ],
   "source": [
    "m"
   ]
  },
  {
   "cell_type": "code",
   "execution_count": 12,
   "metadata": {},
   "outputs": [
    {
     "ename": "TypeError",
     "evalue": "'>=' not supported between instances of 'float' and 'NoneType'",
     "output_type": "error",
     "traceback": [
      "\u001b[1;31m---------------------------------------------------------------------------\u001b[0m",
      "\u001b[1;31mTypeError\u001b[0m                                 Traceback (most recent call last)",
      "Cell \u001b[1;32mIn[12], line 10\u001b[0m\n\u001b[0;32m      2\u001b[0m     \u001b[38;5;28;01mreturn\u001b[39;00m {\n\u001b[0;32m      3\u001b[0m         \u001b[38;5;124m'\u001b[39m\u001b[38;5;124mfillColor\u001b[39m\u001b[38;5;124m'\u001b[39m: colormap(x[\u001b[38;5;124m'\u001b[39m\u001b[38;5;124mproperties\u001b[39m\u001b[38;5;124m'\u001b[39m][\u001b[38;5;124m'\u001b[39m\u001b[38;5;124mrate\u001b[39m\u001b[38;5;124m'\u001b[39m]),\n\u001b[0;32m      4\u001b[0m         \u001b[38;5;124m'\u001b[39m\u001b[38;5;124mcolor\u001b[39m\u001b[38;5;124m'\u001b[39m: \u001b[38;5;124m'\u001b[39m\u001b[38;5;124mblack\u001b[39m\u001b[38;5;124m'\u001b[39m,\n\u001b[0;32m      5\u001b[0m         \u001b[38;5;124m'\u001b[39m\u001b[38;5;124mweight\u001b[39m\u001b[38;5;124m'\u001b[39m: \u001b[38;5;241m1.5\u001b[39m,\n\u001b[0;32m      6\u001b[0m         \u001b[38;5;124m'\u001b[39m\u001b[38;5;124mfillOpacity\u001b[39m\u001b[38;5;124m'\u001b[39m: \u001b[38;5;241m0.7\u001b[39m\n\u001b[0;32m      7\u001b[0m     }\n\u001b[0;32m      9\u001b[0m \u001b[38;5;66;03m# GeoJSON을 지도에 추가\u001b[39;00m\n\u001b[1;32m---> 10\u001b[0m \u001b[43mfolium\u001b[49m\u001b[38;5;241;43m.\u001b[39;49m\u001b[43mGeoJson\u001b[49m\u001b[43m(\u001b[49m\n\u001b[0;32m     11\u001b[0m \u001b[43m    \u001b[49m\u001b[43mgdf\u001b[49m\u001b[43m,\u001b[49m\n\u001b[0;32m     12\u001b[0m \u001b[43m    \u001b[49m\u001b[43mstyle_function\u001b[49m\u001b[38;5;241;43m=\u001b[39;49m\u001b[43mstyle_function\u001b[49m\u001b[43m,\u001b[49m\n\u001b[0;32m     13\u001b[0m \u001b[43m    \u001b[49m\u001b[43mtooltip\u001b[49m\u001b[38;5;241;43m=\u001b[39;49m\u001b[43mfolium\u001b[49m\u001b[38;5;241;43m.\u001b[39;49m\u001b[43mGeoJsonTooltip\u001b[49m\u001b[43m(\u001b[49m\u001b[43mfields\u001b[49m\u001b[38;5;241;43m=\u001b[39;49m\u001b[43m[\u001b[49m\u001b[38;5;124;43m'\u001b[39;49m\u001b[38;5;124;43mname\u001b[39;49m\u001b[38;5;124;43m'\u001b[39;49m\u001b[43m,\u001b[49m\u001b[43m \u001b[49m\u001b[38;5;124;43m'\u001b[39;49m\u001b[38;5;124;43mrate\u001b[39;49m\u001b[38;5;124;43m'\u001b[39;49m\u001b[43m]\u001b[49m\u001b[43m,\u001b[49m\u001b[43m \u001b[49m\u001b[43maliases\u001b[49m\u001b[38;5;241;43m=\u001b[39;49m\u001b[43m[\u001b[49m\u001b[38;5;124;43m'\u001b[39;49m\u001b[38;5;124;43mRegion\u001b[39;49m\u001b[38;5;124;43m'\u001b[39;49m\u001b[43m,\u001b[49m\u001b[43m \u001b[49m\u001b[38;5;124;43m'\u001b[39;49m\u001b[38;5;124;43mRate\u001b[39;49m\u001b[38;5;124;43m'\u001b[39;49m\u001b[43m]\u001b[49m\u001b[43m)\u001b[49m\n\u001b[0;32m     14\u001b[0m \u001b[43m)\u001b[49m\u001b[38;5;241m.\u001b[39madd_to(m)\n",
      "File \u001b[1;32mc:\\Users\\Playdata\\AppData\\Local\\anaconda3\\envs\\streamlit\\lib\\site-packages\\folium\\features.py:702\u001b[0m, in \u001b[0;36mGeoJson.__init__\u001b[1;34m(self, data, style_function, highlight_function, popup_keep_highlighted, name, overlay, control, show, smooth_factor, tooltip, embed, popup, zoom_on_click, marker, **kwargs)\u001b[0m\n\u001b[0;32m    700\u001b[0m \u001b[38;5;28mself\u001b[39m\u001b[38;5;241m.\u001b[39mconvert_to_feature_collection()\n\u001b[0;32m    701\u001b[0m \u001b[38;5;28;01mif\u001b[39;00m style_function \u001b[38;5;129;01mis\u001b[39;00m \u001b[38;5;129;01mnot\u001b[39;00m \u001b[38;5;28;01mNone\u001b[39;00m:\n\u001b[1;32m--> 702\u001b[0m     \u001b[38;5;28;43mself\u001b[39;49m\u001b[38;5;241;43m.\u001b[39;49m\u001b[43m_validate_function\u001b[49m\u001b[43m(\u001b[49m\u001b[43mstyle_function\u001b[49m\u001b[43m,\u001b[49m\u001b[43m \u001b[49m\u001b[38;5;124;43m\"\u001b[39;49m\u001b[38;5;124;43mstyle_function\u001b[39;49m\u001b[38;5;124;43m\"\u001b[39;49m\u001b[43m)\u001b[49m\n\u001b[0;32m    703\u001b[0m     \u001b[38;5;28mself\u001b[39m\u001b[38;5;241m.\u001b[39mstyle_function \u001b[38;5;241m=\u001b[39m style_function\n\u001b[0;32m    704\u001b[0m     \u001b[38;5;28mself\u001b[39m\u001b[38;5;241m.\u001b[39mstyle_map: \u001b[38;5;28mdict\u001b[39m \u001b[38;5;241m=\u001b[39m {}\n",
      "File \u001b[1;32mc:\\Users\\Playdata\\AppData\\Local\\anaconda3\\envs\\streamlit\\lib\\site-packages\\folium\\features.py:777\u001b[0m, in \u001b[0;36mGeoJson._validate_function\u001b[1;34m(self, func, name)\u001b[0m\n\u001b[0;32m    774\u001b[0m     \u001b[38;5;28;01mreturn\u001b[39;00m\n\u001b[0;32m    776\u001b[0m test_feature \u001b[38;5;241m=\u001b[39m \u001b[38;5;28mself\u001b[39m\u001b[38;5;241m.\u001b[39mdata[\u001b[38;5;124m\"\u001b[39m\u001b[38;5;124mfeatures\u001b[39m\u001b[38;5;124m\"\u001b[39m][\u001b[38;5;241m0\u001b[39m]\n\u001b[1;32m--> 777\u001b[0m \u001b[38;5;28;01mif\u001b[39;00m \u001b[38;5;129;01mnot\u001b[39;00m \u001b[38;5;28mcallable\u001b[39m(func) \u001b[38;5;129;01mor\u001b[39;00m \u001b[38;5;129;01mnot\u001b[39;00m \u001b[38;5;28misinstance\u001b[39m(\u001b[43mfunc\u001b[49m\u001b[43m(\u001b[49m\u001b[43mtest_feature\u001b[49m\u001b[43m)\u001b[49m, \u001b[38;5;28mdict\u001b[39m):\n\u001b[0;32m    778\u001b[0m     \u001b[38;5;28;01mraise\u001b[39;00m \u001b[38;5;167;01mValueError\u001b[39;00m(\n\u001b[0;32m    779\u001b[0m         \u001b[38;5;124mf\u001b[39m\u001b[38;5;124m\"\u001b[39m\u001b[38;5;132;01m{\u001b[39;00mname\u001b[38;5;132;01m}\u001b[39;00m\u001b[38;5;124m should be a function that accepts items from \u001b[39m\u001b[38;5;124m\"\u001b[39m\n\u001b[0;32m    780\u001b[0m         \u001b[38;5;124m\"\u001b[39m\u001b[38;5;124mdata[\u001b[39m\u001b[38;5;124m'\u001b[39m\u001b[38;5;124mfeatures\u001b[39m\u001b[38;5;124m'\u001b[39m\u001b[38;5;124m] and returns a dictionary.\u001b[39m\u001b[38;5;124m\"\u001b[39m\n\u001b[0;32m    781\u001b[0m     )\n",
      "Cell \u001b[1;32mIn[12], line 3\u001b[0m, in \u001b[0;36mstyle_function\u001b[1;34m(x)\u001b[0m\n\u001b[0;32m      1\u001b[0m \u001b[38;5;28;01mdef\u001b[39;00m \u001b[38;5;21mstyle_function\u001b[39m(x):\n\u001b[0;32m      2\u001b[0m     \u001b[38;5;28;01mreturn\u001b[39;00m {\n\u001b[1;32m----> 3\u001b[0m         \u001b[38;5;124m'\u001b[39m\u001b[38;5;124mfillColor\u001b[39m\u001b[38;5;124m'\u001b[39m: \u001b[43mcolormap\u001b[49m\u001b[43m(\u001b[49m\u001b[43mx\u001b[49m\u001b[43m[\u001b[49m\u001b[38;5;124;43m'\u001b[39;49m\u001b[38;5;124;43mproperties\u001b[39;49m\u001b[38;5;124;43m'\u001b[39;49m\u001b[43m]\u001b[49m\u001b[43m[\u001b[49m\u001b[38;5;124;43m'\u001b[39;49m\u001b[38;5;124;43mrate\u001b[39;49m\u001b[38;5;124;43m'\u001b[39;49m\u001b[43m]\u001b[49m\u001b[43m)\u001b[49m,\n\u001b[0;32m      4\u001b[0m         \u001b[38;5;124m'\u001b[39m\u001b[38;5;124mcolor\u001b[39m\u001b[38;5;124m'\u001b[39m: \u001b[38;5;124m'\u001b[39m\u001b[38;5;124mblack\u001b[39m\u001b[38;5;124m'\u001b[39m,\n\u001b[0;32m      5\u001b[0m         \u001b[38;5;124m'\u001b[39m\u001b[38;5;124mweight\u001b[39m\u001b[38;5;124m'\u001b[39m: \u001b[38;5;241m1.5\u001b[39m,\n\u001b[0;32m      6\u001b[0m         \u001b[38;5;124m'\u001b[39m\u001b[38;5;124mfillOpacity\u001b[39m\u001b[38;5;124m'\u001b[39m: \u001b[38;5;241m0.7\u001b[39m\n\u001b[0;32m      7\u001b[0m     }\n",
      "File \u001b[1;32mc:\\Users\\Playdata\\AppData\\Local\\anaconda3\\envs\\streamlit\\lib\\site-packages\\branca\\colormap.py:158\u001b[0m, in \u001b[0;36mColorMap.__call__\u001b[1;34m(self, x)\u001b[0m\n\u001b[0;32m    154\u001b[0m \u001b[38;5;28;01mdef\u001b[39;00m \u001b[38;5;21m__call__\u001b[39m(\u001b[38;5;28mself\u001b[39m, x):\n\u001b[0;32m    155\u001b[0m \u001b[38;5;250m    \u001b[39m\u001b[38;5;124;03m\"\"\"Provides the color corresponding to value `x` in the\u001b[39;00m\n\u001b[0;32m    156\u001b[0m \u001b[38;5;124;03m    form of a string of hexadecimal values \"#RRGGBBAA\".\u001b[39;00m\n\u001b[0;32m    157\u001b[0m \u001b[38;5;124;03m    \"\"\"\u001b[39;00m\n\u001b[1;32m--> 158\u001b[0m     \u001b[38;5;28;01mreturn\u001b[39;00m \u001b[38;5;28;43mself\u001b[39;49m\u001b[38;5;241;43m.\u001b[39;49m\u001b[43mrgba_hex_str\u001b[49m\u001b[43m(\u001b[49m\u001b[43mx\u001b[49m\u001b[43m)\u001b[49m\n",
      "File \u001b[1;32mc:\\Users\\Playdata\\AppData\\Local\\anaconda3\\envs\\streamlit\\lib\\site-packages\\branca\\colormap.py:152\u001b[0m, in \u001b[0;36mColorMap.rgba_hex_str\u001b[1;34m(self, x)\u001b[0m\n\u001b[0;32m    148\u001b[0m \u001b[38;5;28;01mdef\u001b[39;00m \u001b[38;5;21mrgba_hex_str\u001b[39m(\u001b[38;5;28mself\u001b[39m, x):\n\u001b[0;32m    149\u001b[0m \u001b[38;5;250m    \u001b[39m\u001b[38;5;124;03m\"\"\"Provides the color corresponding to value `x` in the\u001b[39;00m\n\u001b[0;32m    150\u001b[0m \u001b[38;5;124;03m    form of a string of hexadecimal values \"#RRGGBBAA\".\u001b[39;00m\n\u001b[0;32m    151\u001b[0m \u001b[38;5;124;03m    \"\"\"\u001b[39;00m\n\u001b[1;32m--> 152\u001b[0m     \u001b[38;5;28;01mreturn\u001b[39;00m \u001b[38;5;124m\"\u001b[39m\u001b[38;5;124m#\u001b[39m\u001b[38;5;132;01m%02x\u001b[39;00m\u001b[38;5;132;01m%02x\u001b[39;00m\u001b[38;5;132;01m%02x\u001b[39;00m\u001b[38;5;132;01m%02x\u001b[39;00m\u001b[38;5;124m\"\u001b[39m \u001b[38;5;241m%\u001b[39m \u001b[38;5;28;43mself\u001b[39;49m\u001b[38;5;241;43m.\u001b[39;49m\u001b[43mrgba_bytes_tuple\u001b[49m\u001b[43m(\u001b[49m\u001b[43mx\u001b[49m\u001b[43m)\u001b[49m\n",
      "File \u001b[1;32mc:\\Users\\Playdata\\AppData\\Local\\anaconda3\\envs\\streamlit\\lib\\site-packages\\branca\\colormap.py:134\u001b[0m, in \u001b[0;36mColorMap.rgba_bytes_tuple\u001b[1;34m(self, x)\u001b[0m\n\u001b[0;32m    130\u001b[0m \u001b[38;5;28;01mdef\u001b[39;00m \u001b[38;5;21mrgba_bytes_tuple\u001b[39m(\u001b[38;5;28mself\u001b[39m, x):\n\u001b[0;32m    131\u001b[0m \u001b[38;5;250m    \u001b[39m\u001b[38;5;124;03m\"\"\"Provides the color corresponding to value `x` in the\u001b[39;00m\n\u001b[0;32m    132\u001b[0m \u001b[38;5;124;03m    form of a tuple (R,G,B,A) with int values between 0 and 255.\u001b[39;00m\n\u001b[0;32m    133\u001b[0m \u001b[38;5;124;03m    \"\"\"\u001b[39;00m\n\u001b[1;32m--> 134\u001b[0m     \u001b[38;5;28;01mreturn\u001b[39;00m \u001b[38;5;28mtuple\u001b[39m(\u001b[38;5;28mint\u001b[39m(u \u001b[38;5;241m*\u001b[39m \u001b[38;5;241m255.9999\u001b[39m) \u001b[38;5;28;01mfor\u001b[39;00m u \u001b[38;5;129;01min\u001b[39;00m \u001b[38;5;28;43mself\u001b[39;49m\u001b[38;5;241;43m.\u001b[39;49m\u001b[43mrgba_floats_tuple\u001b[49m\u001b[43m(\u001b[49m\u001b[43mx\u001b[49m\u001b[43m)\u001b[49m)\n",
      "File \u001b[1;32mc:\\Users\\Playdata\\AppData\\Local\\anaconda3\\envs\\streamlit\\lib\\site-packages\\branca\\colormap.py:272\u001b[0m, in \u001b[0;36mLinearColormap.rgba_floats_tuple\u001b[1;34m(self, x)\u001b[0m\n\u001b[0;32m    268\u001b[0m \u001b[38;5;28;01mdef\u001b[39;00m \u001b[38;5;21mrgba_floats_tuple\u001b[39m(\u001b[38;5;28mself\u001b[39m, x):\n\u001b[0;32m    269\u001b[0m \u001b[38;5;250m    \u001b[39m\u001b[38;5;124;03m\"\"\"Provides the color corresponding to value `x` in the\u001b[39;00m\n\u001b[0;32m    270\u001b[0m \u001b[38;5;124;03m    form of a tuple (R,G,B,A) with float values between 0. and 1.\u001b[39;00m\n\u001b[0;32m    271\u001b[0m \u001b[38;5;124;03m    \"\"\"\u001b[39;00m\n\u001b[1;32m--> 272\u001b[0m     \u001b[38;5;28;01mif\u001b[39;00m \u001b[43mx\u001b[49m\u001b[43m \u001b[49m\u001b[38;5;241;43m<\u001b[39;49m\u001b[38;5;241;43m=\u001b[39;49m\u001b[43m \u001b[49m\u001b[38;5;28;43mself\u001b[39;49m\u001b[38;5;241;43m.\u001b[39;49m\u001b[43mindex\u001b[49m\u001b[43m[\u001b[49m\u001b[38;5;241;43m0\u001b[39;49m\u001b[43m]\u001b[49m:\n\u001b[0;32m    273\u001b[0m         \u001b[38;5;28;01mreturn\u001b[39;00m \u001b[38;5;28mself\u001b[39m\u001b[38;5;241m.\u001b[39mcolors[\u001b[38;5;241m0\u001b[39m]\n\u001b[0;32m    274\u001b[0m     \u001b[38;5;28;01mif\u001b[39;00m x \u001b[38;5;241m>\u001b[39m\u001b[38;5;241m=\u001b[39m \u001b[38;5;28mself\u001b[39m\u001b[38;5;241m.\u001b[39mindex[\u001b[38;5;241m-\u001b[39m\u001b[38;5;241m1\u001b[39m]:\n",
      "\u001b[1;31mTypeError\u001b[0m: '>=' not supported between instances of 'float' and 'NoneType'"
     ]
    }
   ],
   "source": [
    "def style_function(x):\n",
    "    return {\n",
    "        'fillColor': colormap(x['properties']['rate']),\n",
    "        'color': 'black',\n",
    "        'weight': 1.5,\n",
    "        'fillOpacity': 0.7\n",
    "    }\n",
    "\n",
    "# GeoJSON을 지도에 추가\n",
    "folium.GeoJson(\n",
    "    gdf,\n",
    "    style_function=style_function,\n",
    "    tooltip=folium.GeoJsonTooltip(fields=['name', 'rate'], aliases=['Region', 'Rate'])\n",
    ").add_to(m)"
   ]
  },
  {
   "cell_type": "code",
   "execution_count": null,
   "metadata": {},
   "outputs": [],
   "source": [
    "'https://search.naver.com/search.naver?where=news&query=%EC%A0%84%EA%B8%B0%EC%B0%A8%20%EB%B0%B0%ED%84%B0%EB%A6%AC%20%EC%A0%9C%EC%A1%B0%EC%82%AC&sm=tab_opt&sort=0&photo=3&field=0&pd=4&ds=2024.08.22.02.16&de=2024.08.23.02.16&docid=&related=0&mynews=0&office_type=0&office_section_code=0&news_office_checked=&nso=so%3Ar%2Cp%3A1d&is_sug_officeid=0&office_category=0&service_area=0'"
   ]
  },
  {
   "cell_type": "code",
   "execution_count": 5,
   "metadata": {},
   "outputs": [
    {
     "name": "stdout",
     "output_type": "stream",
     "text": [
      "Collecting streamlit-echarts\n",
      "  Using cached streamlit_echarts-0.4.0-py3-none-any.whl.metadata (9.7 kB)\n",
      "Requirement already satisfied: streamlit>=0.63 in c:\\users\\playdata\\appdata\\local\\anaconda3\\envs\\streamlit\\lib\\site-packages (from streamlit-echarts) (1.37.1)\n",
      "Collecting simplejson>=3.0 (from streamlit-echarts)\n",
      "  Downloading simplejson-3.19.3-cp310-cp310-win_amd64.whl.metadata (3.2 kB)\n",
      "Collecting pyecharts>=1.9 (from streamlit-echarts)\n",
      "  Using cached pyecharts-2.0.6-py3-none-any.whl.metadata (1.3 kB)\n",
      "Requirement already satisfied: jinja2 in c:\\users\\playdata\\appdata\\local\\anaconda3\\envs\\streamlit\\lib\\site-packages (from pyecharts>=1.9->streamlit-echarts) (3.1.4)\n",
      "Collecting prettytable (from pyecharts>=1.9->streamlit-echarts)\n",
      "  Using cached prettytable-3.11.0-py3-none-any.whl.metadata (30 kB)\n",
      "Requirement already satisfied: altair<6,>=4.0 in c:\\users\\playdata\\appdata\\local\\anaconda3\\envs\\streamlit\\lib\\site-packages (from streamlit>=0.63->streamlit-echarts) (5.4.0)\n",
      "Requirement already satisfied: blinker<2,>=1.0.0 in c:\\users\\playdata\\appdata\\local\\anaconda3\\envs\\streamlit\\lib\\site-packages (from streamlit>=0.63->streamlit-echarts) (1.8.2)\n",
      "Requirement already satisfied: cachetools<6,>=4.0 in c:\\users\\playdata\\appdata\\local\\anaconda3\\envs\\streamlit\\lib\\site-packages (from streamlit>=0.63->streamlit-echarts) (5.4.0)\n",
      "Requirement already satisfied: click<9,>=7.0 in c:\\users\\playdata\\appdata\\local\\anaconda3\\envs\\streamlit\\lib\\site-packages (from streamlit>=0.63->streamlit-echarts) (8.1.7)\n",
      "Requirement already satisfied: numpy<3,>=1.20 in c:\\users\\playdata\\appdata\\local\\anaconda3\\envs\\streamlit\\lib\\site-packages (from streamlit>=0.63->streamlit-echarts) (2.0.1)\n",
      "Requirement already satisfied: packaging<25,>=20 in c:\\users\\playdata\\appdata\\local\\anaconda3\\envs\\streamlit\\lib\\site-packages (from streamlit>=0.63->streamlit-echarts) (24.1)\n",
      "Requirement already satisfied: pandas<3,>=1.3.0 in c:\\users\\playdata\\appdata\\local\\anaconda3\\envs\\streamlit\\lib\\site-packages (from streamlit>=0.63->streamlit-echarts) (2.2.2)\n",
      "Requirement already satisfied: pillow<11,>=7.1.0 in c:\\users\\playdata\\appdata\\local\\anaconda3\\envs\\streamlit\\lib\\site-packages (from streamlit>=0.63->streamlit-echarts) (10.4.0)\n",
      "Requirement already satisfied: protobuf<6,>=3.20 in c:\\users\\playdata\\appdata\\local\\anaconda3\\envs\\streamlit\\lib\\site-packages (from streamlit>=0.63->streamlit-echarts) (5.27.3)\n",
      "Requirement already satisfied: pyarrow>=7.0 in c:\\users\\playdata\\appdata\\local\\anaconda3\\envs\\streamlit\\lib\\site-packages (from streamlit>=0.63->streamlit-echarts) (17.0.0)\n",
      "Requirement already satisfied: requests<3,>=2.27 in c:\\users\\playdata\\appdata\\local\\anaconda3\\envs\\streamlit\\lib\\site-packages (from streamlit>=0.63->streamlit-echarts) (2.32.3)\n",
      "Requirement already satisfied: rich<14,>=10.14.0 in c:\\users\\playdata\\appdata\\local\\anaconda3\\envs\\streamlit\\lib\\site-packages (from streamlit>=0.63->streamlit-echarts) (13.7.1)\n",
      "Requirement already satisfied: tenacity<9,>=8.1.0 in c:\\users\\playdata\\appdata\\local\\anaconda3\\envs\\streamlit\\lib\\site-packages (from streamlit>=0.63->streamlit-echarts) (8.5.0)\n",
      "Requirement already satisfied: toml<2,>=0.10.1 in c:\\users\\playdata\\appdata\\local\\anaconda3\\envs\\streamlit\\lib\\site-packages (from streamlit>=0.63->streamlit-echarts) (0.10.2)\n",
      "Requirement already satisfied: typing-extensions<5,>=4.3.0 in c:\\users\\playdata\\appdata\\local\\anaconda3\\envs\\streamlit\\lib\\site-packages (from streamlit>=0.63->streamlit-echarts) (4.12.2)\n",
      "Requirement already satisfied: gitpython!=3.1.19,<4,>=3.0.7 in c:\\users\\playdata\\appdata\\local\\anaconda3\\envs\\streamlit\\lib\\site-packages (from streamlit>=0.63->streamlit-echarts) (3.1.43)\n",
      "Requirement already satisfied: pydeck<1,>=0.8.0b4 in c:\\users\\playdata\\appdata\\local\\anaconda3\\envs\\streamlit\\lib\\site-packages (from streamlit>=0.63->streamlit-echarts) (0.9.1)\n",
      "Requirement already satisfied: tornado<7,>=6.0.3 in c:\\users\\playdata\\appdata\\local\\anaconda3\\envs\\streamlit\\lib\\site-packages (from streamlit>=0.63->streamlit-echarts) (6.4.1)\n",
      "Requirement already satisfied: watchdog<5,>=2.1.5 in c:\\users\\playdata\\appdata\\local\\anaconda3\\envs\\streamlit\\lib\\site-packages (from streamlit>=0.63->streamlit-echarts) (4.0.2)\n",
      "Requirement already satisfied: jsonschema>=3.0 in c:\\users\\playdata\\appdata\\local\\anaconda3\\envs\\streamlit\\lib\\site-packages (from altair<6,>=4.0->streamlit>=0.63->streamlit-echarts) (4.23.0)\n",
      "Requirement already satisfied: narwhals>=1.1.0 in c:\\users\\playdata\\appdata\\local\\anaconda3\\envs\\streamlit\\lib\\site-packages (from altair<6,>=4.0->streamlit>=0.63->streamlit-echarts) (1.3.0)\n",
      "Requirement already satisfied: colorama in c:\\users\\playdata\\appdata\\local\\anaconda3\\envs\\streamlit\\lib\\site-packages (from click<9,>=7.0->streamlit>=0.63->streamlit-echarts) (0.4.6)\n",
      "Requirement already satisfied: gitdb<5,>=4.0.1 in c:\\users\\playdata\\appdata\\local\\anaconda3\\envs\\streamlit\\lib\\site-packages (from gitpython!=3.1.19,<4,>=3.0.7->streamlit>=0.63->streamlit-echarts) (4.0.11)\n",
      "Requirement already satisfied: python-dateutil>=2.8.2 in c:\\users\\playdata\\appdata\\local\\anaconda3\\envs\\streamlit\\lib\\site-packages (from pandas<3,>=1.3.0->streamlit>=0.63->streamlit-echarts) (2.9.0)\n",
      "Requirement already satisfied: pytz>=2020.1 in c:\\users\\playdata\\appdata\\local\\anaconda3\\envs\\streamlit\\lib\\site-packages (from pandas<3,>=1.3.0->streamlit>=0.63->streamlit-echarts) (2024.1)\n",
      "Requirement already satisfied: tzdata>=2022.7 in c:\\users\\playdata\\appdata\\local\\anaconda3\\envs\\streamlit\\lib\\site-packages (from pandas<3,>=1.3.0->streamlit>=0.63->streamlit-echarts) (2024.1)\n",
      "Requirement already satisfied: MarkupSafe>=2.0 in c:\\users\\playdata\\appdata\\local\\anaconda3\\envs\\streamlit\\lib\\site-packages (from jinja2->pyecharts>=1.9->streamlit-echarts) (2.1.5)\n",
      "Requirement already satisfied: charset-normalizer<4,>=2 in c:\\users\\playdata\\appdata\\local\\anaconda3\\envs\\streamlit\\lib\\site-packages (from requests<3,>=2.27->streamlit>=0.63->streamlit-echarts) (3.3.2)\n",
      "Requirement already satisfied: idna<4,>=2.5 in c:\\users\\playdata\\appdata\\local\\anaconda3\\envs\\streamlit\\lib\\site-packages (from requests<3,>=2.27->streamlit>=0.63->streamlit-echarts) (3.7)\n",
      "Requirement already satisfied: urllib3<3,>=1.21.1 in c:\\users\\playdata\\appdata\\local\\anaconda3\\envs\\streamlit\\lib\\site-packages (from requests<3,>=2.27->streamlit>=0.63->streamlit-echarts) (2.2.2)\n",
      "Requirement already satisfied: certifi>=2017.4.17 in c:\\users\\playdata\\appdata\\local\\anaconda3\\envs\\streamlit\\lib\\site-packages (from requests<3,>=2.27->streamlit>=0.63->streamlit-echarts) (2024.7.4)\n",
      "Requirement already satisfied: markdown-it-py>=2.2.0 in c:\\users\\playdata\\appdata\\local\\anaconda3\\envs\\streamlit\\lib\\site-packages (from rich<14,>=10.14.0->streamlit>=0.63->streamlit-echarts) (3.0.0)\n",
      "Requirement already satisfied: pygments<3.0.0,>=2.13.0 in c:\\users\\playdata\\appdata\\local\\anaconda3\\envs\\streamlit\\lib\\site-packages (from rich<14,>=10.14.0->streamlit>=0.63->streamlit-echarts) (2.18.0)\n",
      "Requirement already satisfied: wcwidth in c:\\users\\playdata\\appdata\\local\\anaconda3\\envs\\streamlit\\lib\\site-packages (from prettytable->pyecharts>=1.9->streamlit-echarts) (0.2.13)\n",
      "Requirement already satisfied: smmap<6,>=3.0.1 in c:\\users\\playdata\\appdata\\local\\anaconda3\\envs\\streamlit\\lib\\site-packages (from gitdb<5,>=4.0.1->gitpython!=3.1.19,<4,>=3.0.7->streamlit>=0.63->streamlit-echarts) (5.0.1)\n",
      "Requirement already satisfied: attrs>=22.2.0 in c:\\users\\playdata\\appdata\\local\\anaconda3\\envs\\streamlit\\lib\\site-packages (from jsonschema>=3.0->altair<6,>=4.0->streamlit>=0.63->streamlit-echarts) (24.2.0)\n",
      "Requirement already satisfied: jsonschema-specifications>=2023.03.6 in c:\\users\\playdata\\appdata\\local\\anaconda3\\envs\\streamlit\\lib\\site-packages (from jsonschema>=3.0->altair<6,>=4.0->streamlit>=0.63->streamlit-echarts) (2023.12.1)\n",
      "Requirement already satisfied: referencing>=0.28.4 in c:\\users\\playdata\\appdata\\local\\anaconda3\\envs\\streamlit\\lib\\site-packages (from jsonschema>=3.0->altair<6,>=4.0->streamlit>=0.63->streamlit-echarts) (0.35.1)\n",
      "Requirement already satisfied: rpds-py>=0.7.1 in c:\\users\\playdata\\appdata\\local\\anaconda3\\envs\\streamlit\\lib\\site-packages (from jsonschema>=3.0->altair<6,>=4.0->streamlit>=0.63->streamlit-echarts) (0.20.0)\n",
      "Requirement already satisfied: mdurl~=0.1 in c:\\users\\playdata\\appdata\\local\\anaconda3\\envs\\streamlit\\lib\\site-packages (from markdown-it-py>=2.2.0->rich<14,>=10.14.0->streamlit>=0.63->streamlit-echarts) (0.1.2)\n",
      "Requirement already satisfied: six>=1.5 in c:\\users\\playdata\\appdata\\local\\anaconda3\\envs\\streamlit\\lib\\site-packages (from python-dateutil>=2.8.2->pandas<3,>=1.3.0->streamlit>=0.63->streamlit-echarts) (1.16.0)\n",
      "Using cached streamlit_echarts-0.4.0-py3-none-any.whl (3.1 MB)\n",
      "Using cached pyecharts-2.0.6-py3-none-any.whl (149 kB)\n",
      "Downloading simplejson-3.19.3-cp310-cp310-win_amd64.whl (75 kB)\n",
      "   ---------------------------------------- 0.0/75.6 kB ? eta -:--:--\n",
      "   ---------------- ----------------------- 30.7/75.6 kB 435.7 kB/s eta 0:00:01\n",
      "   ---------------------------------------- 75.6/75.6 kB 1.0 MB/s eta 0:00:00\n",
      "Using cached prettytable-3.11.0-py3-none-any.whl (28 kB)\n",
      "Installing collected packages: simplejson, prettytable, pyecharts, streamlit-echarts\n",
      "Successfully installed prettytable-3.11.0 pyecharts-2.0.6 simplejson-3.19.3 streamlit-echarts-0.4.0\n"
     ]
    }
   ],
   "source": [
    "!pip install streamlit-echarts"
   ]
  }
 ],
 "metadata": {
  "kernelspec": {
   "display_name": "streamlit",
   "language": "python",
   "name": "python3"
  },
  "language_info": {
   "codemirror_mode": {
    "name": "ipython",
    "version": 3
   },
   "file_extension": ".py",
   "mimetype": "text/x-python",
   "name": "python",
   "nbconvert_exporter": "python",
   "pygments_lexer": "ipython3",
   "version": "3.10.14"
  }
 },
 "nbformat": 4,
 "nbformat_minor": 2
}
