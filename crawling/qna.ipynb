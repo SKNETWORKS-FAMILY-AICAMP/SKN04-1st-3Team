{
 "cells": [
  {
   "cell_type": "code",
   "execution_count": 3,
   "metadata": {},
   "outputs": [],
   "source": [
    "from bs4 import BeautifulSoup\n",
    "from selenium import webdriver\n",
    "from selenium.webdriver.chrome.service import Service\n",
    "from webdriver_manager.chrome import ChromeDriverManager\n",
    "from selenium.webdriver.support import expected_conditions as EC\n",
    "import pandas as pd\n",
    "import requests"
   ]
  },
  {
   "cell_type": "code",
   "execution_count": 4,
   "metadata": {},
   "outputs": [
    {
     "data": {
      "text/plain": [
       "['\\n\\n',\n",
       " '\\t\\t\\t2020년 국내 전기차 판매량은 4만 6,909대에서 2021년 10만 1,112대, 2022년 16만 2,987대로 급격한 성장세를 보이고 있다. \\n',\n",
       " '\\t\\t\\t또한, 한국 정부는 충전기·충전소 인프라 확충, 내연기관차 폐차 유도, 전기차 구매 장려금 등을 통해 \\n',\n",
       " '\\t\\t\\t2030년 국내 전기차 450만대 보급 목표를 제시했다. \\n',\n",
       " '\\t\\t\\t국내 전기차 시장의 고성장과 정부의 지원은 국내 전기차 시장의 장밋빛 미래를 보여준다. \\n',\n",
       " '\\t\\t\\t이와 같은 전기차 시장에서의 고성장, 정부지원 등은 전기차 원가의 30~40%를 차지하는 국내 배터리 산업에도 큰 호재로 다가오고 있다.\\n',\n",
       " '\\t\\t\\n\"국내 전기차 판매량\"\\n\\n\\n\\n\\n\\n',\n",
       " '\\t\\t\\tLG에너지솔루션, SK온, 삼성SDI와 같은 국내 배터리 3사는 20~30년의 오랜 업력을 기반으로 한 노하우와 기술력을 보유하고 있다.\\n',\n",
       " '\\t\\t\\t오랜 기간 쌓여온 배터리 생산 경험은 공장의 자동화 설비를 구축하는데 있어서도 유리하게 작용했다.\\n',\n",
       " '\\t\\t\\t자동화 설비는 배터리 수율(투입 수량 대비 양품 비율) 개선 및 유지에 기여하는 만큼 생산효율을 가지고 있는 것으로 평가받고 있다.\\n',\n",
       " '\\t\\t\\n\\n',\n",
       " '\\t\\t\\t미국에서 발효된 인플레이션 감축법(IRA) 또한 K-배터리의 위상을 높일 수 있는 좋은 기회이다. \\n',\n",
       " '\\t\\t\\tIRA는 미국내 전기차 세액공제 요건에 배터리 광물과 부품 조달이 북미 역내 또는 미국과 FTA를 체결한 국가에서 이루어져야 한다는 규정을\\n',\n",
       " '\\t\\t\\t담고 있다. \\n',\n",
       " '\\t\\t\\t한국은 미국의 FTA 체결국으로 한국에서 배터리 소재 가공이 이루어질 경우 IRA 세액공제 요건 충족이 가능하므로 \\n',\n",
       " '\\t\\t\\tIRA 세액공제 혜택을 받기 원하는 각국의 배터리 소재업체들의 한국내 투자가 확대될 것으로 전망된다.\\n',\n",
       " '\\t\\t\\n']"
      ]
     },
     "execution_count": 4,
     "metadata": {},
     "output_type": "execute_result"
    }
   ],
   "source": [
    "#Q1\n",
    "Question = '우리나라의 전기차 이용 비율은 높아지고 있나요?'\n",
    "url = 'https://www.investkorea.org/ik-kr/cntnts/i-3022/web.do?clickArea=krmain00023'\n",
    "response = requests.get(url)\n",
    "bs = BeautifulSoup(response.text, 'lxml')\n",
    "A = bs.select('div.ig_content > div.sub-section')[3].text.split('\\t\\t\\t\\t\\t\\t')\n",
    "A"
   ]
  },
  {
   "cell_type": "code",
   "execution_count": 6,
   "metadata": {},
   "outputs": [
    {
     "data": {
      "text/plain": [
       "<img alt=\"하단에 내용 참고바랍니다.\" src=\"/images/ik-kr/2023/img_battery02.jpg\"/>"
      ]
     },
     "execution_count": 6,
     "metadata": {},
     "output_type": "execute_result"
    }
   ],
   "source": [
    "#Q2\n",
    "Question = '세계 전기차 배터리 회사에는 어떤 것들이 있나요?'\n",
    "url = 'https://www.investkorea.org/ik-kr/cntnts/i-3022/web.do?clickArea=krmain00023'\n",
    "response = requests.get(url)\n",
    "bs = BeautifulSoup(response.text, 'lxml')\n",
    "A = bs.select('div.img-box > img')[1]\n",
    "A"
   ]
  },
  {
   "cell_type": "code",
   "execution_count": 38,
   "metadata": {},
   "outputs": [
    {
     "data": {
      "text/plain": [
       "'\\n\\n\\n\\n구분\\n\\n\\n내용\\n\\n\\n\\n\\n전기승용차\\n\\n\\n공통사항\\n\\n\\n-\\xa0최종 산출된 보조금(국비+지방비)을 기준으로 기본가격이 5.5천만원 미만인 차량은 보조금 전액, 5.5천만원* 이상 ~ 8.5천만원* 미만 차량은 보조금의 50%, 8.5천만원 이상 차량은 보조금 미지원* 해당 기본가격 기준은 2024년까지 유지\\xa0-\\xa0전년도 기본가격이 5.5천만원 미만인 차량의 가격이 전년도 대비 인하되었을 경우 인하액의\\xa030% 추가 지원(최대 50만원), 다만 이 경우 최종 국비보조금은 중·대형 기준 650만원, 소형 기준 550만원을 초과할 수 없음\\xa0-\\xa0지방자치단체는 차종별 국비 보조금 산정 수준에 비례하여 지방비 보조금을\\xa0차종별로 차등적으로 산정해야 함\\n\\n\\n\\n\\n중·대형,\\xa0소형\\n\\n\\n-\\xa0자동차 성능(연비, 주행거리), 저공해차보급목표 달성실적, 가격인하 여부 등을 고려하여 중·대형 최대 650만원, 소형 최대 550만원 범위 내에서 차등 지원하며, 세부 보조금 산출방식은\\xa0「2024년 전기자동차 보급사업 보조금 업무처리지침」\\xa0별표 1과 같음\\xa0-배터리 보증수리 기간이 10년/50만km 이상(SOH65%)인 차량에는 보조금 상한(중·대형 : 650만원 / 소형 : 550만원)을 초과하지 않는 선에서 30만원 지원\\xa0-\\xa0차상위 이하 계층이 구매 시 해당 차량 국비 지원액의 20% 추가 지원\\xa0-\\xa0전기택시는 해당 차량 보조금에 국비 250만원을 추가 지원\\xa0개인사업자나 법인이 2년 이내 2대 이상의 전기차를 구매하려는 경우 민간보조사업을 통해 국비만 지원하고 ‘재지원제한기간’ 미적용\\n\\n\\n\\n\\n초소형\\n\\n\\n-\\xa0차량 종류에 관계없이 250만원 정액 지원, 다만 구매자가 초소형 전기차 활용 확대(도심내 영업용, 단거리 교통수단 등)를 위한 지역 거점 사업의 일환으로 구매한다는 사실을 증빙하는 경우 국비 50만원 추가 지원\\xa0-\\xa0차상위 이하 계층이 구매 시 해당 차량 국비 지원액의 20% 추가 지원\\xa0-\\xa0‘재지원제한기간’ 적용 없이 지자체 보조 가능\\n\\n\\n\\n\\n전기승합차\\n\\n\\n-\\xa0자동차의 성능(연비, 주행거리), 차량규모를 고려하여 중형 최대 5,000만원, 대형 최대 7,000만원 범위 내에서 차등 지원하며, 보조금 산출 방식은 「2024년 전기자동차 보급사업 보조금 업무처리지침」별표 2와 같음\\xa0-\\xa0어린이 통학차량용으로 구매하는 경우 국비 지원액의 20% 추가 지원\\xa0-\\xa0법인이 구매하는 경우\\xa0‘재지원제한기간’ 미적용\\n\\n\\n\\n\\n전기화물차\\n\\n\\n공통사항\\n\\n\\n소상공인, 차상위 이하 계층이 구매 시 해당차량 국비 지원액의 30% 추가 지원\\xa0-\\xa0기존 노후 경유차를 조기폐차한 경우 폐차 1건당\\xa01회 재지원제한기간 미적용\\xa0-\\xa0택배용 차량으로 전기화물차 구매 시 국비 지원액의 10% 추가 지원(해당 추가지원금은 기존 경유화물차를 폐차하고 전기화물차 출고일 기준으로 6개월간 택배업 허가를 유지한 경우에만 지급)\\n\\n\\n\\n\\n소형·경형\\n\\n\\n-\\xa0자동차 성능(연비, 주행거리) 등을 고려하여 소형 최대 1,100만원, 경형 최대 800만원 범위 내에서 차등 지원하며, 세부 보조금 산출방식은\\xa0「2024년 전기자동차 보급사업 보조금 업무처리지침」\\xa0별표 3과 같음\\xa0-\\xa0법인이 5년 이내 2대 이상의 전기차를 구매하려는 경우  민간보조사업을 통해 국비만 지원하고 ‘재지원제한기간’ 미적용\\n\\n\\n\\n\\n초소형\\n\\n\\n-\\xa0차량 종류에 관계없이 초소형 전기화물차는 400만원 정액 지원\\xa0-\\xa0다만, 초소형 전기화물차를 해당차량 활용 확대(도심내 영업용, 단거리 교통수단 등)를 위한 지역거점 사업 추진 목적으로 구매하는 경우 국비 50만원 추가 지원\\xa0-\\xa0‘재지원제한기간’ 적용 없이 지자체 보조 가능\\n\\n\\n'"
      ]
     },
     "execution_count": 38,
     "metadata": {},
     "output_type": "execute_result"
    }
   ],
   "source": [
    "#Q3\n",
    "Question = '전기차 구매시 보조금은 어떻게 되나요'\n",
    "url = 'https://easylaw.go.kr/CSP/CnpClsMain.laf?popMenu=ov&csmSeq=1404&ccfNo=2&cciNo=1&cnpClsNo=1'\n",
    "response = requests.get(url)\n",
    "bs = BeautifulSoup(response.text, 'lxml')\n",
    "A = bs.select('div.tplv5')[0].text\n",
    "A"
   ]
  },
  {
   "cell_type": "code",
   "execution_count": 45,
   "metadata": {},
   "outputs": [
    {
     "data": {
      "text/plain": [
       "'국내 배터리 3사는 매출액 기준 시장 점유율에서 LG에너지솔루션이 16.4%로 2위, 삼성SDI가 7.8%로 4위, SK온이 7.5%로 5위를 각각 기록했다'"
      ]
     },
     "execution_count": 45,
     "metadata": {},
     "output_type": "execute_result"
    }
   ],
   "source": [
    "#Q4\n",
    "Question = '해외에서 우리나라의 전기차 배터리 회사 순위'\n",
    "url = 'https://www.g-enews.com/article/Industry/2024/04/2024041510303417377bdb7041ec_1'\n",
    "response = requests.get(url)\n",
    "bs = BeautifulSoup(response.text, 'lxml')\n",
    "A = bs.select('div.vtxt.detailCont')[0].text.split('. ')[3]\n",
    "A"
   ]
  },
  {
   "cell_type": "code",
   "execution_count": 5,
   "metadata": {},
   "outputs": [
    {
     "data": {
      "text/plain": [
       "<img alt=\"하단에 내용 참고바랍니다.\" src=\"/images/ik-kr/2023/img_battery01.jpg\"/>"
      ]
     },
     "execution_count": 5,
     "metadata": {},
     "output_type": "execute_result"
    }
   ],
   "source": [
    "#Q5\n",
    "Question = '국적별 배터리 생산 능력 점유율 전망은 어떻게 되나요'\n",
    "url = 'https://www.investkorea.org/ik-kr/cntnts/i-3022/web.do?clickArea=krmain00023'\n",
    "response = requests.get(url)\n",
    "bs = BeautifulSoup(response.text, 'lxml')\n",
    "A = bs.select('div.img-box > img')[0]\n",
    "A"
   ]
  },
  {
   "cell_type": "code",
   "execution_count": null,
   "metadata": {},
   "outputs": [],
   "source": []
  }
 ],
 "metadata": {
  "kernelspec": {
   "display_name": "Python 3",
   "language": "python",
   "name": "python3"
  },
  "language_info": {
   "codemirror_mode": {
    "name": "ipython",
    "version": 3
   },
   "file_extension": ".py",
   "mimetype": "text/x-python",
   "name": "python",
   "nbconvert_exporter": "python",
   "pygments_lexer": "ipython3",
   "version": "3.12.4"
  }
 },
 "nbformat": 4,
 "nbformat_minor": 2
}
